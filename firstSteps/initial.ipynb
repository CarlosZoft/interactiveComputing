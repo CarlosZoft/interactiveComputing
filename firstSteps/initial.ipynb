{
 "cells": [
  {
   "cell_type": "code",
   "execution_count": 30,
   "metadata": {},
   "outputs": [],
   "source": [
    "import math"
   ]
  },
  {
   "cell_type": "code",
   "execution_count": 1,
   "metadata": {},
   "outputs": [
    {
     "name": "stdout",
     "output_type": "stream",
     "text": [
      "Stay here, bro\n"
     ]
    }
   ],
   "source": [
    "teste = 0\r\n",
    "if(teste): (\"Come on, dude\")\r\n",
    "else : print(\"Stay here, bro\")"
   ]
  },
  {
   "cell_type": "code",
   "execution_count": 2,
   "metadata": {},
   "outputs": [
    {
     "data": {
      "text/plain": "['Carlos', 'Rafael', 'is', 'a', 'student', 'at', 'Unb']"
     },
     "execution_count": 2,
     "metadata": {},
     "output_type": "execute_result"
    }
   ],
   "source": [
    "name = \"Carlos Rafael is a student at Unb\"\r\n",
    "name.split(' ')"
   ]
  },
  {
   "cell_type": "code",
   "execution_count": 16,
   "metadata": {},
   "outputs": [
    {
     "name": "stdout",
     "output_type": "stream",
     "text": [
      "2\n",
      "4\n",
      "8\n",
      "16\n",
      "32\n",
      "64\n",
      "128\n",
      "256\n",
      "512\n",
      "1024\n",
      "2048\n",
      "4096\n",
      "8192\n",
      "16384\n",
      "32768\n"
     ]
    }
   ],
   "source": [
    "teste = 1\r\n",
    "for i in range(15):\r\n",
    "    aux = teste\r\n",
    "    teste += aux\r\n",
    "    print(teste)\r\n",
    "    \r\n"
   ]
  },
  {
   "cell_type": "code",
   "execution_count": 24,
   "metadata": {},
   "outputs": [
    {
     "name": "stdout",
     "output_type": "stream",
     "text": [
      "['l', 'e', 'a', 'f', 'a', 'R', ' ', 's', 'o', 'l', 'r', 'a', 'C']\n"
     ]
    }
   ],
   "source": [
    "name = 'Carlos Rafael'\r\n",
    "name = list(reversed(name))\r\n",
    "print(name)"
   ]
  },
  {
   "cell_type": "code",
   "execution_count": 26,
   "metadata": {},
   "outputs": [
    {
     "name": "stdout",
     "output_type": "stream",
     "text": [
      "2\n",
      "4\n",
      "8\n",
      "16\n",
      "32\n",
      "64\n",
      "128\n",
      "256\n",
      "512\n",
      "1024\n",
      "2048\n",
      "4096\n",
      "8192\n",
      "16384\n",
      "32768\n"
     ]
    }
   ],
   "source": [
    "teste = 1\r\n",
    "for i in range(15):\r\n",
    "    teste *=2\r\n",
    "    print(teste)"
   ]
  },
  {
   "cell_type": "code",
   "execution_count": 31,
   "metadata": {},
   "outputs": [
    {
     "name": "stdout",
     "output_type": "stream",
     "text": [
      "1.4142135623730951\n",
      "2.0\n",
      "2.8284271247461903\n",
      "4.0\n",
      "5.656854249492381\n",
      "8.0\n",
      "11.313708498984761\n",
      "16.0\n",
      "22.627416997969522\n",
      "32.0\n",
      "45.254833995939045\n",
      "64.0\n",
      "90.50966799187809\n",
      "128.0\n",
      "181.01933598375618\n"
     ]
    }
   ],
   "source": [
    "teste = 1\r\n",
    "for i in range(15):\r\n",
    "    teste *= 2 \r\n",
    "    print(math.sqrt(teste))"
   ]
  }
 ],
 "metadata": {
  "kernelspec": {
   "display_name": "Python 3",
   "name": "python3"
  },
  "language_info": {
   "codemirror_mode": {
    "name": "ipython",
    "version": 3
   },
   "file_extension": ".py",
   "mimetype": "text/x-python",
   "name": "python",
   "nbconvert_exporter": "python",
   "pygments_lexer": "ipython3",
   "version": "3.8.5"
  },
  "orig_nbformat": 2
 },
 "nbformat": 4,
 "nbformat_minor": 2
}